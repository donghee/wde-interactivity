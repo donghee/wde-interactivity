{
 "cells": [
  {
   "cell_type": "code",
   "execution_count": null,
   "metadata": {},
   "outputs": [],
   "source": [
    "import numpy as np\n",
    "import math\n",
    "import pandas as pd\n",
    "import matplotlib.pyplot as plt\n",
    "import os\n",
    "import glob\n",
    "from scipy.signal import butter, filtfilt"
   ]
  },
  {
   "cell_type": "code",
   "execution_count": null,
   "metadata": {},
   "outputs": [],
   "source": [
    "def map_motion_percent (df):\n",
    "    \n",
    "    motion_table_file_path = 'motion_sequence.csv'\n",
    "    motion_df = pd.read_csv(motion_table_file_path)\n",
    "\n",
    "    motion_values =[]\n",
    "    \n",
    "    df['Angle_int'] = df['Angle'].astype(int)\n",
    "\n",
    "    # 데이터프레임1과 데이터프레임2를 동시에 비교\n",
    "    for _, row1 in df.iterrows():\n",
    "        angle1 = row1['Angle_int']\n",
    "        state1 = row1['State']\n",
    "    \n",
    "        matching_row = motion_df[(motion_df['Angle'] == angle1) & (motion_df['State'] == state1)]\n",
    "        if not matching_row.empty:\n",
    "            motion_value = matching_row['Motion'].values[0]\n",
    "            motion_values.append(motion_value)\n",
    "        else: \n",
    "            motion_value = np.nan\n",
    "            motion_values.append(motion_value)\n",
    "\n",
    "\n",
    "    df['Motion'] = motion_values\n",
    "    df['Motion'] = df['Motion'].fillna((df['Motion'].ffill() + df['Motion'].bfill()) / 2)\n",
    "\n",
    "    return df"
   ]
  },
  {
   "cell_type": "code",
   "execution_count": null,
   "metadata": {},
   "outputs": [],
   "source": [
    "def combined_torques_graph(df, df_evaluate):\n",
    "    df_evaluate = map_motion_percent(df_evaluate)\n",
    "    df = df.sort_values('Motion')\n",
    "    df_evaluate = df_evaluate.sort_values('Motion')\n",
    "\n",
    "    plt.figure(figsize=(15, 10))\n",
    "\n",
    "    # 첫 번째 서브플롯 (상단)\n",
    "    plt.subplot(2, 1, 1)  # 2행 1열로 배치, 첫 번째 서브플롯\n",
    "    \n",
    "    plt.plot(df['Motion'], df['InteractionTorque'], label='Interaction Torque', color='green')\n",
    "    plt.plot(df['Motion'], df['MotorTorque'], label='Motor Torque', color='blue')\n",
    "    plt.plot(df['Motion'], df['HumanTorque'],  label='Human Torque',color='red')\n",
    "\n",
    "    plt.grid(True, color='gray', linestyle='--', linewidth=0.5)\n",
    "    plt.ylim(-3, 2)\n",
    "    plt.xlabel('A motion (%)')\n",
    "    plt.ylabel('Torques (N.m)')\n",
    "    plt.legend()\n",
    "\n",
    "    # 두 번째 서브플롯 (하단)\n",
    "    plt.subplot(2, 1, 2)  # 2행 1열로 배치, 두 번째 서브플롯\n",
    "    plt.plot(df_evaluate['Motion'], df_evaluate['New_Range_0'], label='0', color='grey')\n",
    "    plt.plot(df_evaluate['Motion'], df_evaluate['New_Range_1'], label='1', color='grey')\n",
    "    plt.plot(df['Motion'], df['HumanTorque'], label='Human Torque', color='red')\n",
    "\n",
    "    plt.grid(True, color='gray', linestyle='--', linewidth=0.5)\n",
    "    plt.ylim(-7, 2)\n",
    "    plt.xlabel('A motion (%)')\n",
    "    plt.ylabel('Human Torque (N.m)')\n",
    "    plt.legend()\n",
    "\n",
    "    plt.tight_layout()  # 서브플롯 간의 간격 조정\n",
    "    plt.show()"
   ]
  },
  {
   "cell_type": "code",
   "execution_count": null,
   "metadata": {},
   "outputs": [],
   "source": [
    "def compare_value(df): \n",
    "    df['HumanTorque'] = df['HumanTorque'].abs()\n",
    "    average_value = df['HumanTorque'].mean()\n",
    "    return average_value"
   ]
  },
  {
   "cell_type": "code",
   "execution_count": null,
   "metadata": {},
   "outputs": [],
   "source": [
    "def main():\n",
    "\n",
    "    file_path = 'interaction_control_node_1.csv'\n",
    "    df = pd.read_csv(file_path)\n",
    "    evaluate_file_path = 'Evaluation_Table2.csv' \n",
    "    df_evaluate = pd.read_csv(evaluate_file_path)\n",
    "    \n",
    "    #N번 사람 비교\n",
    "    total_score = compare_value(df)\n",
    "    \n",
    "    \n",
    "    print('Interactivitiy Score is '+ str(total_score))\n",
    "    \n",
    "    #inter_force_graph (df)\n",
    "    #torques_graph(df_number)\n",
    "    combined_torques_graph (df, df_evaluate)"
   ]
  },
  {
   "cell_type": "code",
   "execution_count": null,
   "metadata": {},
   "outputs": [],
   "source": [
    "if __name__ == '__main__':\n",
    "    main()\n"
   ]
  }
 ],
 "metadata": {
  "kernelspec": {
   "display_name": "Python 3",
   "language": "python",
   "name": "python3"
  },
  "language_info": {
   "name": "python",
   "version": "3.8.3"
  },
  "orig_nbformat": 4,
  "vscode": {
   "interpreter": {
    "hash": "9650cb4e16cdd4a8e8e2d128bf38d875813998db22a3c986335f89e0cb4d7bb2"
   }
  }
 },
 "nbformat": 4,
 "nbformat_minor": 2
}
